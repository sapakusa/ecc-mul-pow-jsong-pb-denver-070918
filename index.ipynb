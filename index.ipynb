{
 "cells": [
  {
   "cell_type": "markdown",
   "metadata": {},
   "source": [
    "# Finite Field Multiplication and Exponentiation\n",
    "\n",
    "Just as we defined a new addition ($+~f~$) for Finite Fields that was _closed_, we can also define a new multiplication for Finite Fields that's also closed. By multiplying the same number many times, we can also define exponentiation or power. In this section, we'll go through exactly how to define this using modulo arithmetic."
   ]
  },
  {
   "cell_type": "markdown",
   "metadata": {},
   "source": [
    "### Try solving these equations in \\\\(F_{31}\\\\):\n",
    "\n",
    "\\\\(24\\cdot19=?\\\\)\n",
    "\n",
    "\\\\(17^3=?\\\\)\n",
    "\n",
    "\\\\(5^5\\cdot18=?\\\\)"
   ]
  },
  {
   "cell_type": "code",
   "execution_count": 1,
   "metadata": {},
   "outputs": [
    {
     "name": "stdout",
     "output_type": "stream",
     "text": [
      "22\n",
      "15\n",
      "16\n"
     ]
    }
   ],
   "source": [
    "# remember that ** is the exponentiation operator\n",
    "prime = 31\n",
    "# 24*19=?\n",
    "# 17^3=?\n",
    "# 5^5*18=?\n",
    "\n",
    "print ((24 * 19) % prime)\n",
    "print (17**3 % prime)\n",
    "print (5**5 * 18 % prime)"
   ]
  },
  {
   "cell_type": "markdown",
   "metadata": {},
   "source": [
    "#### Write a program to calculate \\\\(0k, 1k, 2k, 3k, ... 30k\\\\) for some k in \\\\(F_{31}\\\\).  Notice anything about these sets?"
   ]
  },
  {
   "cell_type": "code",
   "execution_count": 1,
   "metadata": {
    "scrolled": true
   },
   "outputs": [
    {
     "name": "stdout",
     "output_type": "stream",
     "text": [
      "[0, 1, 2, 3, 4, 5, 6, 7, 8, 9, 10, 11, 12, 13, 14, 15, 16, 17, 18, 19, 20, 21, 22, 23, 24, 25, 26, 27, 28, 29, 30]\n"
     ]
    }
   ],
   "source": [
    "from random import randint\n",
    "\n",
    "prime = 31\n",
    "k = randint(1,prime)\n",
    "\n",
    "print(sorted([i*k % prime for i in range(prime)]))\n",
    "# use range(prime) to iterate over all numbers from 0 to 30 inclusive"
   ]
  },
  {
   "cell_type": "markdown",
   "metadata": {},
   "source": [
    "#### Write a program to calculate \\\\(k^{30}\\\\) for all k in \\\\(F_{31}\\\\). Notice anything?"
   ]
  },
  {
   "cell_type": "code",
   "execution_count": 2,
   "metadata": {},
   "outputs": [
    {
     "name": "stdout",
     "output_type": "stream",
     "text": [
      "[1, 1, 1, 1, 1, 1, 1, 1, 1, 1, 1, 1, 1, 1, 1, 1, 1, 1, 1, 1, 1, 1, 1, 1, 1, 1, 1, 1, 1, 1]\n"
     ]
    }
   ],
   "source": [
    "prime = 31\n",
    "\n",
    "print([i**30 % prime for i in range(1,prime)])\n",
    "# use range(1, prime) to iterate over all numbers from 1 to 30 inclusive"
   ]
  },
  {
   "cell_type": "markdown",
   "metadata": {},
   "source": [
    "### Test Driven Exercise\n",
    "\n",
    "Create the `__mul__` and `__pow__` methods for your library:"
   ]
  },
  {
   "cell_type": "code",
   "execution_count": 3,
   "metadata": {},
   "outputs": [],
   "source": [
    "from ecc import FieldElement\n",
    "\n",
    "class FieldElement(FieldElement):\n",
    "\n",
    "    def __mul__(self, other):\n",
    "        if self.prime != other.prime:\n",
    "            raise RuntimeError('Primes must be the same')\n",
    "        # self.num and other.num are the actual values\n",
    "        num = (self.num * other.num) % self.prime\n",
    "        # self.prime is what you'll need to mod against\n",
    "        # You need to return an element of the same class\n",
    "        p = self.prime\n",
    "        # use: self.__class__(num, prime)\n",
    "        return self.__class__(num, p)\n",
    "\n",
    "    def __pow__(self, n):\n",
    "        # You need to return an element of the same class\n",
    "        # use: self.__class__(num, prime)\n",
    "        p = self.prime\n",
    "        num = pow(self.num, n, p)\n",
    "        return self.__class__(num,p)"
   ]
  },
  {
   "cell_type": "code",
   "execution_count": null,
   "metadata": {},
   "outputs": [],
   "source": []
  }
 ],
 "metadata": {
  "kernelspec": {
   "display_name": "Python 3",
   "language": "python",
   "name": "python3"
  },
  "language_info": {
   "codemirror_mode": {
    "name": "ipython",
    "version": 3
   },
   "file_extension": ".py",
   "mimetype": "text/x-python",
   "name": "python",
   "nbconvert_exporter": "python",
   "pygments_lexer": "ipython3",
   "version": "3.6.4"
  }
 },
 "nbformat": 4,
 "nbformat_minor": 2
}
